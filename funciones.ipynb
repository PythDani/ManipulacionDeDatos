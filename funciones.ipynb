{
  "nbformat": 4,
  "nbformat_minor": 0,
  "metadata": {
    "colab": {
      "provenance": [],
      "authorship_tag": "ABX9TyPNfaOxMljqcu9NBbg7L+CG",
      "include_colab_link": true
    },
    "kernelspec": {
      "name": "python3",
      "display_name": "Python 3"
    },
    "language_info": {
      "name": "python"
    }
  },
  "cells": [
    {
      "cell_type": "markdown",
      "metadata": {
        "id": "view-in-github",
        "colab_type": "text"
      },
      "source": [
        "<a href=\"https://colab.research.google.com/github/PythDani/ManipulacionDeDatos/blob/master/funciones.ipynb\" target=\"_parent\"><img src=\"https://colab.research.google.com/assets/colab-badge.svg\" alt=\"Open In Colab\"/></a>"
      ]
    },
    {
      "cell_type": "code",
      "execution_count": null,
      "metadata": {
        "id": "7lHDGxkPQ9Sr"
      },
      "outputs": [],
      "source": [
        "import numpy as np"
      ]
    },
    {
      "cell_type": "code",
      "source": [
        "np.random.randint(2,6, 10) \n",
        "#np.random.randint(x,y,n) genera un array de n elementos \n",
        "#Los elementos del array se crean de forma aleatoria debido a randon.randint método\n",
        "# En el rando desde x inclusive hasta y. "
      ],
      "metadata": {
        "colab": {
          "base_uri": "https://localhost:8080/"
        },
        "id": "A5DgPHiJRGy2",
        "outputId": "3afe58ee-e570-412f-f0f7-9595451e2e0b"
      },
      "execution_count": null,
      "outputs": [
        {
          "output_type": "execute_result",
          "data": {
            "text/plain": [
              "array([4, 4, 4, 5, 2, 5, 4, 3, 4, 4])"
            ]
          },
          "metadata": {},
          "execution_count": 7
        }
      ]
    },
    {
      "cell_type": "code",
      "source": [
        "arr = np.random.randint(2,6, 10) \n",
        "arr \n",
        "#Imprimirá un vector"
      ],
      "metadata": {
        "colab": {
          "base_uri": "https://localhost:8080/"
        },
        "id": "W025OEVkSIbf",
        "outputId": "4a37c442-ff4b-4b0a-b79c-f11cee3acc0d"
      },
      "execution_count": null,
      "outputs": [
        {
          "output_type": "execute_result",
          "data": {
            "text/plain": [
              "array([5, 5, 4, 5, 4, 3, 3, 4, 4, 4])"
            ]
          },
          "metadata": {},
          "execution_count": 18
        }
      ]
    },
    {
      "cell_type": "code",
      "source": [
        "matriz=arr.reshape(2,5)\n",
        "matriz \n",
        "#imprimirá una estructura matricial"
      ],
      "metadata": {
        "colab": {
          "base_uri": "https://localhost:8080/"
        },
        "id": "ua0s7zSTSdD-",
        "outputId": "d8aaad2c-8d62-4944-c6f1-7bbe09c6dff0"
      },
      "execution_count": null,
      "outputs": [
        {
          "output_type": "execute_result",
          "data": {
            "text/plain": [
              "array([[5, 5, 4, 5, 4],\n",
              "       [3, 3, 4, 4, 4]])"
            ]
          },
          "metadata": {},
          "execution_count": 21
        }
      ]
    },
    {
      "cell_type": "code",
      "source": [
        "arr.max()\n",
        "#max() nos retorna el número más grande del vector o matriz\n",
        "matriz.max()"
      ],
      "metadata": {
        "colab": {
          "base_uri": "https://localhost:8080/"
        },
        "id": "rRtZ-s4mS7Jn",
        "outputId": "18d2d8a0-efb8-4a3f-c3ba-c720306fec91"
      },
      "execution_count": null,
      "outputs": [
        {
          "output_type": "execute_result",
          "data": {
            "text/plain": [
              "5"
            ]
          },
          "metadata": {},
          "execution_count": 13
        }
      ]
    },
    {
      "cell_type": "code",
      "source": [
        "matriz.max()"
      ],
      "metadata": {
        "colab": {
          "base_uri": "https://localhost:8080/"
        },
        "id": "rBOr-QonTQ_3",
        "outputId": "32b6ff52-a95e-4e5a-a554-4014f596a49b"
      },
      "execution_count": null,
      "outputs": [
        {
          "output_type": "execute_result",
          "data": {
            "text/plain": [
              "5"
            ]
          },
          "metadata": {},
          "execution_count": 14
        }
      ]
    },
    {
      "cell_type": "code",
      "source": [
        "matriz.max(1)\n",
        "#El argumento n en matriz.max(n) representa el eje por el cual queremos obtener el o los valores máximos\n",
        "# siendo n=0 el eje de las columnas y n=1 el eje de las filas. Ver ejemplo con cero más abajo.\n",
        "#El método compara por cada fila o culumna, de a cuerdo al valor n dado, y obtiene el máximo valor\n"
      ],
      "metadata": {
        "colab": {
          "base_uri": "https://localhost:8080/"
        },
        "id": "21BePKz4TUnf",
        "outputId": "95278623-e767-4b50-8c7b-0fd5aed927e0"
      },
      "execution_count": null,
      "outputs": [
        {
          "output_type": "execute_result",
          "data": {
            "text/plain": [
              "array([5, 4])"
            ]
          },
          "metadata": {},
          "execution_count": 15
        }
      ]
    },
    {
      "cell_type": "code",
      "source": [
        "matriz.max(0)"
      ],
      "metadata": {
        "colab": {
          "base_uri": "https://localhost:8080/"
        },
        "id": "YEDq_ucIUfGA",
        "outputId": "e8df82dc-dbf8-4b4e-b690-3f3c47c3a05b"
      },
      "execution_count": null,
      "outputs": [
        {
          "output_type": "execute_result",
          "data": {
            "text/plain": [
              "array([2, 5, 5, 5, 4])"
            ]
          },
          "metadata": {},
          "execution_count": 16
        }
      ]
    },
    {
      "cell_type": "code",
      "source": [
        "arr.argmax()\n",
        "#Nos devuelve el indice donde se encuentra el valor más alto."
      ],
      "metadata": {
        "colab": {
          "base_uri": "https://localhost:8080/"
        },
        "id": "rcsvK56YVhPy",
        "outputId": "89b90405-0d96-4d45-8449-5e252412436b"
      },
      "execution_count": null,
      "outputs": [
        {
          "output_type": "execute_result",
          "data": {
            "text/plain": [
              "0"
            ]
          },
          "metadata": {},
          "execution_count": 19
        }
      ]
    },
    {
      "cell_type": "code",
      "source": [
        "matriz.argmax(0)"
      ],
      "metadata": {
        "colab": {
          "base_uri": "https://localhost:8080/"
        },
        "id": "CbJAwz9gWdVA",
        "outputId": "02d4c88a-b745-4bf1-c8cf-9491dce6d0cd"
      },
      "execution_count": null,
      "outputs": [
        {
          "output_type": "execute_result",
          "data": {
            "text/plain": [
              "array([0, 0, 0, 0, 0])"
            ]
          },
          "metadata": {},
          "execution_count": 22
        }
      ]
    },
    {
      "cell_type": "code",
      "source": [
        "arr.min()"
      ],
      "metadata": {
        "colab": {
          "base_uri": "https://localhost:8080/"
        },
        "id": "K5F3F53gWuvP",
        "outputId": "be8da4cc-25e7-4970-dae9-c4046c949e55"
      },
      "execution_count": null,
      "outputs": [
        {
          "output_type": "execute_result",
          "data": {
            "text/plain": [
              "3"
            ]
          },
          "metadata": {},
          "execution_count": 23
        }
      ]
    },
    {
      "cell_type": "code",
      "source": [
        "matriz.min()"
      ],
      "metadata": {
        "colab": {
          "base_uri": "https://localhost:8080/"
        },
        "id": "JMLZJQxWWysI",
        "outputId": "1d3fa3be-0d3a-4093-a3f0-1e7c6a7b132a"
      },
      "execution_count": null,
      "outputs": [
        {
          "output_type": "execute_result",
          "data": {
            "text/plain": [
              "3"
            ]
          },
          "metadata": {},
          "execution_count": 25
        }
      ]
    },
    {
      "cell_type": "code",
      "source": [
        "arr.argmin()"
      ],
      "metadata": {
        "colab": {
          "base_uri": "https://localhost:8080/"
        },
        "id": "EQx-gSJ5W2ev",
        "outputId": "1928f7b2-91e3-4189-b7f0-e3ebce740f6a"
      },
      "execution_count": null,
      "outputs": [
        {
          "output_type": "execute_result",
          "data": {
            "text/plain": [
              "5"
            ]
          },
          "metadata": {},
          "execution_count": 26
        }
      ]
    },
    {
      "cell_type": "code",
      "source": [
        "#arr.ptp()  de un pico al otro pico: del pico mas bajo al mas alto. y la diferencia es lo que nos retorna\n",
        "#np.percentile(array, 50) especifica el percentil que estoy trabajando, en este caso el valor que se encuentra en la mitad percentiles: 0, 100 y 50\n",
        "#arr.sort() Ordena de menor a mayor los numeros del arreglo\n",
        "#np.median(arr) igual que percentile. En este caso que es un vector\n",
        "#np.median(matriz, 1)\n",
        "#np.std(arr) desviacion estándar\n",
        "#np.var(arr) varianza == np.std(arr) **2\n",
        "#np.mean(arr) promedio\n",
        "#-------------------------------------------------------------------------------------------------------------------"
      ],
      "metadata": {
        "id": "UklxLyAPW-s-"
      },
      "execution_count": null,
      "outputs": []
    },
    {
      "cell_type": "code",
      "source": [
        "a=np.array([[1,2],[3,4]])\n",
        "b=np.array([4,6])\n"
      ],
      "metadata": {
        "id": "fMqwjLbdYwep"
      },
      "execution_count": null,
      "outputs": []
    },
    {
      "cell_type": "code",
      "source": [
        "np.concatenate((a,b), axis=0)"
      ],
      "metadata": {
        "colab": {
          "base_uri": "https://localhost:8080/"
        },
        "id": "__SJ1yTxZCh1",
        "outputId": "3ffeb0c1-e8f5-4237-a4fc-f5f860714c38"
      },
      "execution_count": null,
      "outputs": [
        {
          "output_type": "execute_result",
          "data": {
            "text/plain": [
              "array([[1, 2],\n",
              "       [3, 4],\n",
              "       [4, 6]])"
            ]
          },
          "metadata": {},
          "execution_count": 41
        }
      ]
    },
    {
      "cell_type": "code",
      "source": [
        "a.ndim\n",
        "b.ndim"
      ],
      "metadata": {
        "colab": {
          "base_uri": "https://localhost:8080/"
        },
        "id": "4FHjF1FkZPy5",
        "outputId": "1203c3eb-320e-4065-fede-6f8347b880ea"
      },
      "execution_count": null,
      "outputs": [
        {
          "output_type": "execute_result",
          "data": {
            "text/plain": [
              "1"
            ]
          },
          "metadata": {},
          "execution_count": 32
        }
      ]
    },
    {
      "cell_type": "code",
      "source": [
        "b = np.expand_dims(b, axis=0)\n",
        "b\n",
        "b.ndim"
      ],
      "metadata": {
        "colab": {
          "base_uri": "https://localhost:8080/"
        },
        "id": "AhLsJWQjZZ4-",
        "outputId": "78ac5ad2-ee0c-4bc5-f2d5-97c2c98f2408"
      },
      "execution_count": null,
      "outputs": [
        {
          "output_type": "execute_result",
          "data": {
            "text/plain": [
              "2"
            ]
          },
          "metadata": {},
          "execution_count": 39
        }
      ]
    },
    {
      "cell_type": "code",
      "source": [
        "np.concatenate((a,b),axis=0)"
      ],
      "metadata": {
        "colab": {
          "base_uri": "https://localhost:8080/"
        },
        "id": "_hzLHku6Zomf",
        "outputId": "f9f7a0cc-c897-4489-d419-ef98d6473a00"
      },
      "execution_count": null,
      "outputs": [
        {
          "output_type": "execute_result",
          "data": {
            "text/plain": [
              "array([[1, 2],\n",
              "       [3, 4],\n",
              "       [4, 6]])"
            ]
          },
          "metadata": {},
          "execution_count": 40
        }
      ]
    }
  ]
}